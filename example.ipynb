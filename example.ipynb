{
 "cells": [
  {
   "cell_type": "code",
   "execution_count": 7,
   "outputs": [],
   "source": [
    "import pandas as pd\n",
    "import utils as ut\n",
    "import warnings\n",
    "\n",
    "warnings.filterwarnings(\"ignore\")"
   ],
   "metadata": {
    "collapsed": false,
    "pycharm": {
     "name": "#%%\n"
    }
   }
  },
  {
   "cell_type": "code",
   "execution_count": 8,
   "outputs": [],
   "source": [
    "# Генерация признаков\n",
    "path = \"./data/test.csv\"\n",
    "feature_construct = ut.load_feature_constructor()\n",
    "test_data = feature_construct(path)"
   ],
   "metadata": {
    "collapsed": false,
    "pycharm": {
     "name": "#%%\n"
    }
   }
  },
  {
   "cell_type": "code",
   "execution_count": 9,
   "outputs": [],
   "source": [
    "# Загрузка модели\n",
    "path = \"./models/RandomForest.pkl\"\n",
    "model = ut.load_model(path)"
   ],
   "metadata": {
    "collapsed": false,
    "pycharm": {
     "name": "#%%\n"
    }
   }
  },
  {
   "cell_type": "code",
   "execution_count": 10,
   "outputs": [],
   "source": [
    "# Обучение модели на каких-то новых данных:\n",
    "path = \"./data/train.csv\"\n",
    "train_data = pd.read_csv(path, index_col=0)\n",
    "model.fit(*ut.split_to_x_y(train_data, 'y'))\n",
    "model.save_model()"
   ],
   "metadata": {
    "collapsed": false,
    "pycharm": {
     "name": "#%%\n"
    }
   }
  },
  {
   "cell_type": "code",
   "execution_count": 11,
   "outputs": [],
   "source": [
    "# Получение предикта\n",
    "clf_report = model.predict(*ut.split_to_x_y(test_data, 'y'))\n",
    "clf_report.predict.to_csv('result.csv', index_label='id')"
   ],
   "metadata": {
    "collapsed": false,
    "pycharm": {
     "name": "#%%\n"
    }
   }
  },
  {
   "cell_type": "markdown",
   "source": [
    "**0 = NO**, **1 = YES**"
   ],
   "metadata": {
    "collapsed": false,
    "pycharm": {
     "name": "#%% md\n"
    }
   }
  },
  {
   "cell_type": "code",
   "execution_count": 12,
   "outputs": [
    {
     "data": {
      "text/plain": "          0     1\nid               \n20806  0.98  0.02\n32487  0.99  0.01\n6605   0.60  0.40\n27542  0.98  0.02\n37202  0.10  0.90\n...     ...   ...\n9114   0.73  0.27\n34005  0.86  0.14\n12177  1.00  0.00\n17586  0.92  0.08\n12415  1.00  0.00\n\n[1000 rows x 2 columns]",
      "text/html": "<div>\n<style scoped>\n    .dataframe tbody tr th:only-of-type {\n        vertical-align: middle;\n    }\n\n    .dataframe tbody tr th {\n        vertical-align: top;\n    }\n\n    .dataframe thead th {\n        text-align: right;\n    }\n</style>\n<table border=\"1\" class=\"dataframe\">\n  <thead>\n    <tr style=\"text-align: right;\">\n      <th></th>\n      <th>0</th>\n      <th>1</th>\n    </tr>\n    <tr>\n      <th>id</th>\n      <th></th>\n      <th></th>\n    </tr>\n  </thead>\n  <tbody>\n    <tr>\n      <th>20806</th>\n      <td>0.98</td>\n      <td>0.02</td>\n    </tr>\n    <tr>\n      <th>32487</th>\n      <td>0.99</td>\n      <td>0.01</td>\n    </tr>\n    <tr>\n      <th>6605</th>\n      <td>0.60</td>\n      <td>0.40</td>\n    </tr>\n    <tr>\n      <th>27542</th>\n      <td>0.98</td>\n      <td>0.02</td>\n    </tr>\n    <tr>\n      <th>37202</th>\n      <td>0.10</td>\n      <td>0.90</td>\n    </tr>\n    <tr>\n      <th>...</th>\n      <td>...</td>\n      <td>...</td>\n    </tr>\n    <tr>\n      <th>9114</th>\n      <td>0.73</td>\n      <td>0.27</td>\n    </tr>\n    <tr>\n      <th>34005</th>\n      <td>0.86</td>\n      <td>0.14</td>\n    </tr>\n    <tr>\n      <th>12177</th>\n      <td>1.00</td>\n      <td>0.00</td>\n    </tr>\n    <tr>\n      <th>17586</th>\n      <td>0.92</td>\n      <td>0.08</td>\n    </tr>\n    <tr>\n      <th>12415</th>\n      <td>1.00</td>\n      <td>0.00</td>\n    </tr>\n  </tbody>\n</table>\n<p>1000 rows × 2 columns</p>\n</div>"
     },
     "execution_count": 12,
     "metadata": {},
     "output_type": "execute_result"
    }
   ],
   "source": [
    "result = pd.read_csv('result.csv', index_col=0)\n",
    "result"
   ],
   "metadata": {
    "collapsed": false,
    "pycharm": {
     "name": "#%%\n"
    }
   }
  },
  {
   "cell_type": "code",
   "execution_count": 12,
   "outputs": [],
   "source": [],
   "metadata": {
    "collapsed": false,
    "pycharm": {
     "name": "#%%\n"
    }
   }
  }
 ],
 "metadata": {
  "kernelspec": {
   "display_name": "Python 3",
   "language": "python",
   "name": "python3"
  },
  "language_info": {
   "codemirror_mode": {
    "name": "ipython",
    "version": 2
   },
   "file_extension": ".py",
   "mimetype": "text/x-python",
   "name": "python",
   "nbconvert_exporter": "python",
   "pygments_lexer": "ipython2",
   "version": "2.7.6"
  }
 },
 "nbformat": 4,
 "nbformat_minor": 0
}