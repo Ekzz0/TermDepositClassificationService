{
 "cells": [
  {
   "cell_type": "code",
   "execution_count": 31,
   "outputs": [],
   "source": [
    "import pandas as pd\n",
    "import utils as ut"
   ],
   "metadata": {
    "collapsed": false,
    "pycharm": {
     "name": "#%%\n"
    }
   }
  },
  {
   "cell_type": "code",
   "execution_count": 34,
   "outputs": [],
   "source": [
    "# Генерация признаков\n",
    "path = \"./data/test.csv\"\n",
    "feature_construct = ut.load_feature_constructor()\n",
    "test_data = feature_construct(path)"
   ],
   "metadata": {
    "collapsed": false,
    "pycharm": {
     "name": "#%%\n"
    }
   }
  },
  {
   "cell_type": "code",
   "execution_count": 3,
   "outputs": [],
   "source": [
    "# Загрузка модели\n",
    "path = \"./models/RandomForest.pkl\"\n",
    "model = ut.load_model(path)"
   ],
   "metadata": {
    "collapsed": false,
    "pycharm": {
     "name": "#%%\n"
    }
   }
  },
  {
   "cell_type": "code",
   "execution_count": 4,
   "outputs": [],
   "source": [
    "    # Обучение модели на каких-то новых данных:\n",
    "path = \"./data/train.csv\"\n",
    "train_data = pd.read_csv(path, index_col=0)\n",
    "model.fit(*ut.split_to_x_y(train_data, 'y'))\n",
    "model.save_model()"
   ],
   "metadata": {
    "collapsed": false,
    "pycharm": {
     "name": "#%%\n"
    }
   }
  },
  {
   "cell_type": "code",
   "execution_count": 5,
   "outputs": [],
   "source": [
    "# Получение предикта\n",
    "clf_report = model.predict(*ut.split_to_x_y(test_data, 'y'))\n",
    "clf_report.predict.to_csv('../result.csv', index_label='id')"
   ],
   "metadata": {
    "collapsed": false,
    "pycharm": {
     "name": "#%%\n"
    }
   }
  },
  {
   "cell_type": "markdown",
   "source": [
    "**0 = NO**, **1 = YES**"
   ],
   "metadata": {
    "collapsed": false,
    "pycharm": {
     "name": "#%% md\n"
    }
   }
  },
  {
   "cell_type": "code",
   "execution_count": 6,
   "outputs": [
    {
     "data": {
      "text/plain": "          0     1\nid               \n20806  0.97  0.03\n32487  1.00  0.00\n6605   0.51  0.49\n27542  0.96  0.04\n37202  0.11  0.89\n...     ...   ...\n9114   0.80  0.20\n34005  0.79  0.21\n12177  0.99  0.01\n17586  0.99  0.01\n12415  0.99  0.01\n\n[1000 rows x 2 columns]",
      "text/html": "<div>\n<style scoped>\n    .dataframe tbody tr th:only-of-type {\n        vertical-align: middle;\n    }\n\n    .dataframe tbody tr th {\n        vertical-align: top;\n    }\n\n    .dataframe thead th {\n        text-align: right;\n    }\n</style>\n<table border=\"1\" class=\"dataframe\">\n  <thead>\n    <tr style=\"text-align: right;\">\n      <th></th>\n      <th>0</th>\n      <th>1</th>\n    </tr>\n    <tr>\n      <th>id</th>\n      <th></th>\n      <th></th>\n    </tr>\n  </thead>\n  <tbody>\n    <tr>\n      <th>20806</th>\n      <td>0.97</td>\n      <td>0.03</td>\n    </tr>\n    <tr>\n      <th>32487</th>\n      <td>1.00</td>\n      <td>0.00</td>\n    </tr>\n    <tr>\n      <th>6605</th>\n      <td>0.51</td>\n      <td>0.49</td>\n    </tr>\n    <tr>\n      <th>27542</th>\n      <td>0.96</td>\n      <td>0.04</td>\n    </tr>\n    <tr>\n      <th>37202</th>\n      <td>0.11</td>\n      <td>0.89</td>\n    </tr>\n    <tr>\n      <th>...</th>\n      <td>...</td>\n      <td>...</td>\n    </tr>\n    <tr>\n      <th>9114</th>\n      <td>0.80</td>\n      <td>0.20</td>\n    </tr>\n    <tr>\n      <th>34005</th>\n      <td>0.79</td>\n      <td>0.21</td>\n    </tr>\n    <tr>\n      <th>12177</th>\n      <td>0.99</td>\n      <td>0.01</td>\n    </tr>\n    <tr>\n      <th>17586</th>\n      <td>0.99</td>\n      <td>0.01</td>\n    </tr>\n    <tr>\n      <th>12415</th>\n      <td>0.99</td>\n      <td>0.01</td>\n    </tr>\n  </tbody>\n</table>\n<p>1000 rows × 2 columns</p>\n</div>"
     },
     "execution_count": 6,
     "metadata": {},
     "output_type": "execute_result"
    }
   ],
   "source": [
    "result = pd.read_csv('../result.csv', index_col=0)\n",
    "result"
   ],
   "metadata": {
    "collapsed": false,
    "pycharm": {
     "name": "#%%\n"
    }
   }
  },
  {
   "cell_type": "code",
   "execution_count": 39,
   "outputs": [],
   "source": [
    "from dataclasses import dataclass\n",
    "\n",
    "@dataclass\n",
    "class Person:\n",
    "    probability: float\n",
    "    ID: int\n"
   ],
   "metadata": {
    "collapsed": false,
    "pycharm": {
     "name": "#%%\n"
    }
   }
  },
  {
   "cell_type": "code",
   "execution_count": 70,
   "outputs": [],
   "source": [
    "persons = [Person(probability=probability, ID=ID) for ID, probability in zip(result.index, result['1'].values)]"
   ],
   "metadata": {
    "collapsed": false,
    "pycharm": {
     "name": "#%%\n"
    }
   }
  },
  {
   "cell_type": "code",
   "execution_count": 75,
   "outputs": [
    {
     "data": {
      "text/plain": "[Person(probability=0.03, ID=20806),\n Person(probability=0.0, ID=32487),\n Person(probability=0.49, ID=6605),\n Person(probability=0.04, ID=27542),\n Person(probability=0.89, ID=37202),\n Person(probability=0.0, ID=323),\n Person(probability=0.01, ID=6431),\n Person(probability=0.53, ID=5383),\n Person(probability=0.69, ID=40964),\n Person(probability=0.21, ID=33399),\n Person(probability=0.0, ID=22468),\n Person(probability=0.01, ID=5566),\n Person(probability=0.06, ID=18863),\n Person(probability=0.88, ID=9941),\n Person(probability=0.0, ID=24357),\n Person(probability=0.23, ID=5091),\n Person(probability=0.02, ID=25242),\n Person(probability=0.01, ID=32450),\n Person(probability=0.75, ID=38954),\n Person(probability=0.19, ID=24300),\n Person(probability=0.03, ID=24838),\n Person(probability=0.24, ID=37784),\n Person(probability=0.33, ID=30354),\n Person(probability=0.08, ID=22720),\n Person(probability=0.75, ID=14461),\n Person(probability=0.0, ID=3312),\n Person(probability=0.25, ID=25924),\n Person(probability=0.02, ID=12964),\n Person(probability=0.01, ID=27349),\n Person(probability=0.61, ID=39367),\n Person(probability=0.02, ID=32274),\n Person(probability=0.89, ID=41000),\n Person(probability=0.83, ID=37290),\n Person(probability=0.01, ID=9097),\n Person(probability=0.0, ID=19907),\n Person(probability=0.01, ID=22053),\n Person(probability=0.05, ID=26272),\n Person(probability=0.03, ID=9794),\n Person(probability=0.0, ID=17373),\n Person(probability=0.01, ID=18210),\n Person(probability=0.0, ID=6254),\n Person(probability=0.0, ID=13875),\n Person(probability=0.79, ID=15049),\n Person(probability=0.0, ID=5985),\n Person(probability=0.0, ID=3614),\n Person(probability=0.05, ID=27668),\n Person(probability=0.02, ID=26126),\n Person(probability=0.04, ID=8491),\n Person(probability=0.0, ID=22120),\n Person(probability=0.0, ID=1399),\n Person(probability=0.02, ID=22166),\n Person(probability=0.16, ID=40863),\n Person(probability=0.0, ID=25153),\n Person(probability=0.21, ID=29040),\n Person(probability=0.22, ID=7092),\n Person(probability=0.01, ID=14975),\n Person(probability=0.99, ID=39061),\n Person(probability=0.81, ID=30401),\n Person(probability=0.06, ID=35385),\n Person(probability=0.04, ID=3873),\n Person(probability=0.82, ID=37964),\n Person(probability=0.0, ID=24280),\n Person(probability=0.01, ID=6808),\n Person(probability=0.64, ID=40457),\n Person(probability=0.97, ID=23999),\n Person(probability=0.01, ID=13786),\n Person(probability=0.73, ID=13715),\n Person(probability=0.01, ID=616),\n Person(probability=0.0, ID=5727),\n Person(probability=0.02, ID=1091),\n Person(probability=0.03, ID=17338),\n Person(probability=0.01, ID=21515),\n Person(probability=0.01, ID=3960),\n Person(probability=0.0, ID=25500),\n Person(probability=0.01, ID=16229),\n Person(probability=0.21, ID=13764),\n Person(probability=0.37, ID=18562),\n Person(probability=0.85, ID=14805),\n Person(probability=0.1, ID=32429),\n Person(probability=0.0, ID=4699),\n Person(probability=0.0, ID=23370),\n Person(probability=0.41, ID=28308),\n Person(probability=0.76, ID=24894),\n Person(probability=0.01, ID=8862),\n Person(probability=0.91, ID=40762),\n Person(probability=0.0, ID=5402),\n Person(probability=0.21, ID=28128),\n Person(probability=0.42, ID=36160),\n Person(probability=0.0, ID=10516),\n Person(probability=0.12, ID=20512),\n Person(probability=0.01, ID=15031),\n Person(probability=0.65, ID=5619),\n Person(probability=0.19, ID=28807),\n Person(probability=0.0, ID=10636),\n Person(probability=0.9, ID=34721),\n Person(probability=0.0, ID=4844),\n Person(probability=0.0, ID=317),\n Person(probability=0.0, ID=1243),\n Person(probability=0.03, ID=21806),\n Person(probability=0.99, ID=39646),\n Person(probability=0.01, ID=23586),\n Person(probability=0.03, ID=7008),\n Person(probability=0.02, ID=27036),\n Person(probability=0.24, ID=29825),\n Person(probability=0.02, ID=22637),\n Person(probability=0.92, ID=38757),\n Person(probability=0.63, ID=36618),\n Person(probability=0.02, ID=21374),\n Person(probability=0.0, ID=8564),\n Person(probability=0.01, ID=24176),\n Person(probability=0.01, ID=21192),\n Person(probability=0.02, ID=20183),\n Person(probability=0.01, ID=6193),\n Person(probability=0.02, ID=7903),\n Person(probability=0.08, ID=34888),\n Person(probability=0.0, ID=2106),\n Person(probability=0.01, ID=27157),\n Person(probability=0.02, ID=25319),\n Person(probability=0.0, ID=14362),\n Person(probability=0.78, ID=29823),\n Person(probability=0.94, ID=30319),\n Person(probability=0.52, ID=31911),\n Person(probability=0.01, ID=2805),\n Person(probability=0.07, ID=34954),\n Person(probability=0.01, ID=6859),\n Person(probability=0.01, ID=2353),\n Person(probability=0.9, ID=15401),\n Person(probability=0.0, ID=10424),\n Person(probability=0.4, ID=28281),\n Person(probability=0.0, ID=429),\n Person(probability=0.25, ID=28824),\n Person(probability=0.71, ID=39022),\n Person(probability=0.91, ID=15877),\n Person(probability=0.01, ID=234),\n Person(probability=0.59, ID=5863),\n Person(probability=0.83, ID=38719),\n Person(probability=0.78, ID=29824),\n Person(probability=0.98, ID=40117),\n Person(probability=0.01, ID=10504),\n Person(probability=0.09, ID=35531),\n Person(probability=0.03, ID=16450),\n Person(probability=0.0, ID=16006),\n Person(probability=0.78, ID=30146),\n Person(probability=0.92, ID=17531),\n Person(probability=0.06, ID=21142),\n Person(probability=0.01, ID=18895),\n Person(probability=0.0, ID=978),\n Person(probability=0.48, ID=3320),\n Person(probability=0.07, ID=1201),\n Person(probability=0.65, ID=28304),\n Person(probability=0.03, ID=17471),\n Person(probability=0.01, ID=35264),\n Person(probability=0.01, ID=2019),\n Person(probability=0.01, ID=6033),\n Person(probability=0.02, ID=11033),\n Person(probability=0.13, ID=15497),\n Person(probability=0.02, ID=18430),\n Person(probability=0.03, ID=16608),\n Person(probability=0.89, ID=37702),\n Person(probability=0.9, ID=25453),\n Person(probability=0.67, ID=26175),\n Person(probability=0.01, ID=31061),\n Person(probability=0.76, ID=36598),\n Person(probability=0.33, ID=36180),\n Person(probability=0.84, ID=38277),\n Person(probability=0.03, ID=24702),\n Person(probability=0.02, ID=14896),\n Person(probability=0.0, ID=31808),\n Person(probability=0.02, ID=20411),\n Person(probability=0.0, ID=19398),\n Person(probability=0.01, ID=11634),\n Person(probability=0.0, ID=6740),\n Person(probability=0.1, ID=22112),\n Person(probability=0.08, ID=32870),\n Person(probability=0.93, ID=27807),\n Person(probability=0.58, ID=6662),\n Person(probability=0.02, ID=23395),\n Person(probability=0.04, ID=6090),\n Person(probability=0.93, ID=39394),\n Person(probability=0.97, ID=38034),\n Person(probability=0.0, ID=1335),\n Person(probability=0.61, ID=8535),\n Person(probability=0.01, ID=26200),\n Person(probability=0.0, ID=21391),\n Person(probability=0.06, ID=23125),\n Person(probability=0.5, ID=30610),\n Person(probability=0.0, ID=12525),\n Person(probability=0.0, ID=1063),\n Person(probability=0.03, ID=7465),\n Person(probability=0.29, ID=28126),\n Person(probability=0.39, ID=28705),\n Person(probability=0.12, ID=34194),\n Person(probability=0.0, ID=12488),\n Person(probability=0.02, ID=2902),\n Person(probability=0.95, ID=30803),\n Person(probability=0.0, ID=22371),\n Person(probability=0.01, ID=26831),\n Person(probability=0.01, ID=15932),\n Person(probability=0.01, ID=23441),\n Person(probability=0.07, ID=12552),\n Person(probability=0.99, ID=36960),\n Person(probability=0.01, ID=17904),\n Person(probability=0.91, ID=8948),\n Person(probability=0.01, ID=32158),\n Person(probability=0.86, ID=25787),\n Person(probability=0.82, ID=39977),\n Person(probability=0.01, ID=2333),\n Person(probability=0.0, ID=15756),\n Person(probability=0.33, ID=37600),\n Person(probability=0.51, ID=2192),\n Person(probability=0.93, ID=40617),\n Person(probability=0.0, ID=21688),\n Person(probability=0.01, ID=33356),\n Person(probability=0.01, ID=5482),\n Person(probability=0.81, ID=27468),\n Person(probability=0.04, ID=6283),\n Person(probability=0.02, ID=12799),\n Person(probability=0.22, ID=13670),\n Person(probability=0.01, ID=4954),\n Person(probability=0.76, ID=24641),\n Person(probability=0.01, ID=1776),\n Person(probability=0.02, ID=8357),\n Person(probability=0.76, ID=5525),\n Person(probability=0.0, ID=32837),\n Person(probability=0.02, ID=32866),\n Person(probability=0.01, ID=19580),\n Person(probability=0.72, ID=35395),\n Person(probability=0.0, ID=293),\n Person(probability=0.01, ID=33455),\n Person(probability=0.53, ID=19682),\n Person(probability=0.02, ID=24342),\n Person(probability=0.04, ID=7425),\n Person(probability=0.15, ID=13906),\n Person(probability=0.47, ID=37139),\n Person(probability=0.55, ID=37180),\n Person(probability=0.03, ID=5530),\n Person(probability=0.04, ID=20510),\n Person(probability=0.22, ID=29777),\n Person(probability=0.03, ID=7386),\n Person(probability=0.01, ID=26612),\n Person(probability=0.01, ID=8009),\n Person(probability=0.67, ID=28563),\n Person(probability=0.0, ID=3507),\n Person(probability=0.02, ID=31239),\n Person(probability=0.05, ID=26838),\n Person(probability=0.0, ID=24935),\n Person(probability=0.0, ID=13801),\n Person(probability=0.0, ID=10225),\n Person(probability=0.05, ID=26631),\n Person(probability=0.19, ID=34139),\n Person(probability=0.04, ID=14485),\n Person(probability=0.0, ID=5906),\n Person(probability=0.02, ID=33609),\n Person(probability=0.02, ID=20060),\n Person(probability=0.03, ID=17045),\n Person(probability=0.0, ID=22079),\n Person(probability=0.95, ID=35743),\n Person(probability=0.0, ID=15696),\n Person(probability=0.01, ID=9260),\n Person(probability=0.18, ID=20476),\n Person(probability=0.93, ID=35332),\n Person(probability=0.0, ID=8422),\n Person(probability=0.59, ID=38446),\n Person(probability=0.93, ID=27869),\n Person(probability=0.7, ID=36804),\n Person(probability=0.03, ID=6702),\n Person(probability=0.98, ID=39233),\n Person(probability=0.0, ID=19241),\n Person(probability=0.0, ID=11608),\n Person(probability=0.01, ID=6081),\n Person(probability=0.0, ID=1849),\n Person(probability=0.02, ID=24466),\n Person(probability=0.03, ID=23076),\n Person(probability=0.6, ID=29728),\n Person(probability=0.0, ID=3081),\n Person(probability=0.0, ID=9479),\n Person(probability=0.04, ID=1579),\n Person(probability=0.01, ID=17151),\n Person(probability=0.0, ID=24178),\n Person(probability=0.03, ID=26493),\n Person(probability=0.89, ID=36399),\n Person(probability=0.15, ID=31951),\n Person(probability=0.0, ID=14562),\n Person(probability=0.02, ID=23429),\n Person(probability=0.33, ID=2107),\n Person(probability=0.66, ID=37956),\n Person(probability=0.0, ID=2707),\n Person(probability=0.45, ID=9469),\n Person(probability=0.01, ID=5206),\n Person(probability=0.2, ID=19431),\n Person(probability=0.03, ID=16539),\n Person(probability=0.03, ID=11804),\n Person(probability=0.01, ID=22441),\n Person(probability=0.5, ID=28804),\n Person(probability=0.02, ID=9458),\n Person(probability=0.26, ID=34325),\n Person(probability=0.75, ID=36269),\n Person(probability=0.47, ID=38510),\n Person(probability=0.47, ID=16869),\n Person(probability=0.0, ID=1859),\n Person(probability=0.01, ID=3915),\n Person(probability=0.02, ID=19451),\n Person(probability=0.7, ID=22232),\n Person(probability=0.02, ID=17657),\n Person(probability=0.0, ID=592),\n Person(probability=0.04, ID=16756),\n Person(probability=0.17, ID=40503),\n Person(probability=0.04, ID=22608),\n Person(probability=0.23, ID=35582),\n Person(probability=0.23, ID=28037),\n Person(probability=0.02, ID=17386),\n Person(probability=0.02, ID=19578),\n Person(probability=0.85, ID=37681),\n Person(probability=0.45, ID=6233),\n Person(probability=0.02, ID=10970),\n Person(probability=0.42, ID=38215),\n Person(probability=0.0, ID=18421),\n Person(probability=0.97, ID=18147),\n Person(probability=0.0, ID=26278),\n Person(probability=0.0, ID=21685),\n Person(probability=0.56, ID=4167),\n Person(probability=0.53, ID=35771),\n Person(probability=0.0, ID=24206),\n Person(probability=0.03, ID=1590),\n Person(probability=0.46, ID=28391),\n Person(probability=0.0, ID=4236),\n Person(probability=0.01, ID=10480),\n Person(probability=0.45, ID=37375),\n Person(probability=0.06, ID=33457),\n Person(probability=0.71, ID=34462),\n Person(probability=0.52, ID=37612),\n Person(probability=0.02, ID=3121),\n Person(probability=0.02, ID=26438),\n Person(probability=0.58, ID=26696),\n Person(probability=0.0, ID=545),\n Person(probability=0.25, ID=28325),\n Person(probability=0.41, ID=40899),\n Person(probability=0.89, ID=36545),\n Person(probability=0.0, ID=8384),\n Person(probability=0.46, ID=35927),\n Person(probability=0.98, ID=36830),\n Person(probability=0.6, ID=4899),\n Person(probability=0.07, ID=36068),\n Person(probability=0.02, ID=7525),\n Person(probability=0.98, ID=39545),\n Person(probability=0.0, ID=30748),\n Person(probability=0.01, ID=5338),\n Person(probability=0.0, ID=1558),\n Person(probability=0.95, ID=35675),\n Person(probability=0.07, ID=34541),\n Person(probability=0.07, ID=16624),\n Person(probability=0.53, ID=15156),\n Person(probability=0.03, ID=35428),\n Person(probability=0.0, ID=14334),\n Person(probability=0.01, ID=24813),\n Person(probability=0.98, ID=11492),\n Person(probability=0.0, ID=18588),\n Person(probability=0.01, ID=20652),\n Person(probability=0.01, ID=23932),\n Person(probability=0.85, ID=38195),\n Person(probability=0.0, ID=9877),\n Person(probability=0.03, ID=22576),\n Person(probability=0.91, ID=5961),\n Person(probability=0.02, ID=1107),\n Person(probability=0.21, ID=24952),\n Person(probability=0.33, ID=27847),\n Person(probability=0.29, ID=26865),\n Person(probability=0.0, ID=9804),\n Person(probability=0.01, ID=19110),\n Person(probability=0.88, ID=10658),\n Person(probability=0.42, ID=29178),\n Person(probability=0.0, ID=5365),\n Person(probability=0.02, ID=23558),\n Person(probability=0.19, ID=29441),\n Person(probability=0.02, ID=31149),\n Person(probability=0.01, ID=24133),\n Person(probability=0.64, ID=19528),\n Person(probability=0.0, ID=25399),\n Person(probability=0.04, ID=10700),\n Person(probability=0.01, ID=9062),\n Person(probability=0.0, ID=2332),\n Person(probability=0.01, ID=19021),\n Person(probability=0.18, ID=33138),\n Person(probability=0.95, ID=30323),\n Person(probability=0.02, ID=18956),\n Person(probability=0.0, ID=5916),\n Person(probability=0.77, ID=36163),\n Person(probability=0.07, ID=5220),\n Person(probability=0.0, ID=20302),\n Person(probability=0.91, ID=30246),\n Person(probability=0.02, ID=6752),\n Person(probability=0.81, ID=37674),\n Person(probability=0.99, ID=39540),\n Person(probability=0.01, ID=4342),\n Person(probability=0.13, ID=26240),\n Person(probability=0.95, ID=38974),\n Person(probability=0.08, ID=21207),\n Person(probability=0.01, ID=3172),\n Person(probability=0.02, ID=369),\n Person(probability=0.99, ID=39853),\n Person(probability=0.54, ID=38607),\n Person(probability=0.95, ID=36878),\n Person(probability=0.72, ID=37691),\n Person(probability=0.87, ID=18263),\n Person(probability=0.7, ID=7137),\n Person(probability=0.96, ID=36952),\n Person(probability=0.68, ID=37484),\n Person(probability=0.83, ID=40292),\n Person(probability=0.01, ID=10236),\n Person(probability=0.86, ID=40185),\n Person(probability=0.0, ID=21786),\n Person(probability=0.04, ID=786),\n Person(probability=0.01, ID=8982),\n Person(probability=0.02, ID=699),\n Person(probability=0.03, ID=8543),\n Person(probability=0.01, ID=13645),\n Person(probability=0.49, ID=3385),\n Person(probability=0.0, ID=21196),\n Person(probability=0.99, ID=39383),\n Person(probability=0.0, ID=32198),\n Person(probability=0.61, ID=25070),\n Person(probability=0.0, ID=1559),\n Person(probability=0.01, ID=5119),\n Person(probability=0.82, ID=15187),\n Person(probability=0.01, ID=13146),\n Person(probability=0.02, ID=24636),\n Person(probability=0.95, ID=40844),\n Person(probability=0.0, ID=7189),\n Person(probability=0.63, ID=28324),\n Person(probability=0.0, ID=18837),\n Person(probability=0.0, ID=11358),\n Person(probability=0.03, ID=10722),\n Person(probability=0.48, ID=28310),\n Person(probability=0.01, ID=16799),\n Person(probability=0.1, ID=40536),\n Person(probability=0.02, ID=1633),\n Person(probability=0.01, ID=12386),\n Person(probability=0.96, ID=37245),\n Person(probability=0.95, ID=32348),\n Person(probability=0.16, ID=25320),\n Person(probability=0.01, ID=3123),\n Person(probability=0.53, ID=36452),\n Person(probability=0.01, ID=14559),\n Person(probability=0.8, ID=21174),\n Person(probability=0.02, ID=21565),\n Person(probability=0.03, ID=13579),\n Person(probability=0.04, ID=21333),\n Person(probability=0.05, ID=33549),\n Person(probability=0.0, ID=5897),\n Person(probability=0.01, ID=12234),\n Person(probability=0.07, ID=32738),\n Person(probability=0.56, ID=13725),\n Person(probability=0.86, ID=37353),\n Person(probability=0.0, ID=18241),\n Person(probability=0.0, ID=15073),\n Person(probability=0.97, ID=19155),\n Person(probability=0.01, ID=31931),\n Person(probability=0.05, ID=3030),\n Person(probability=0.05, ID=35329),\n Person(probability=0.01, ID=3975),\n Person(probability=0.86, ID=37660),\n Person(probability=0.0, ID=23695),\n Person(probability=1.0, ID=39730),\n Person(probability=0.01, ID=17321),\n Person(probability=0.02, ID=8415),\n Person(probability=0.01, ID=9153),\n Person(probability=0.88, ID=40334),\n Person(probability=0.01, ID=14809),\n Person(probability=0.0, ID=11447),\n Person(probability=0.16, ID=19473),\n Person(probability=0.72, ID=36745),\n Person(probability=0.0, ID=17052),\n Person(probability=1.0, ID=40382),\n Person(probability=0.04, ID=14653),\n Person(probability=0.02, ID=24684),\n Person(probability=0.0, ID=24831),\n Person(probability=0.0, ID=21977),\n Person(probability=0.33, ID=28346),\n Person(probability=0.0, ID=4),\n Person(probability=0.0, ID=17764),\n Person(probability=0.32, ID=29148),\n Person(probability=0.16, ID=2916),\n Person(probability=0.05, ID=9295),\n Person(probability=0.0, ID=1621),\n Person(probability=0.17, ID=34754),\n Person(probability=0.04, ID=31347),\n Person(probability=0.06, ID=32027),\n Person(probability=0.0, ID=636),\n Person(probability=0.26, ID=21032),\n Person(probability=0.0, ID=8677),\n Person(probability=0.01, ID=14978),\n Person(probability=0.99, ID=40071),\n Person(probability=0.03, ID=31696),\n Person(probability=0.0, ID=14545),\n Person(probability=0.96, ID=36670),\n Person(probability=0.01, ID=1262),\n Person(probability=0.02, ID=9040),\n Person(probability=0.0, ID=24250),\n Person(probability=0.09, ID=31162),\n Person(probability=0.01, ID=25755),\n Person(probability=0.95, ID=40246),\n Person(probability=0.3, ID=3744),\n Person(probability=0.0, ID=2480),\n Person(probability=0.59, ID=21841),\n Person(probability=0.02, ID=1439),\n Person(probability=0.0, ID=1190),\n Person(probability=0.87, ID=16941),\n Person(probability=0.67, ID=37940),\n Person(probability=0.65, ID=987),\n Person(probability=0.87, ID=40812),\n Person(probability=0.16, ID=29258),\n Person(probability=0.06, ID=21269),\n Person(probability=0.03, ID=16262),\n Person(probability=0.5, ID=19171),\n Person(probability=0.5, ID=35262),\n Person(probability=0.01, ID=13407),\n Person(probability=0.01, ID=21076),\n Person(probability=0.0, ID=2435),\n Person(probability=0.55, ID=3404),\n Person(probability=0.74, ID=19518),\n Person(probability=0.88, ID=8529),\n Person(probability=0.84, ID=38148),\n Person(probability=0.0, ID=18605),\n Person(probability=0.98, ID=38286),\n Person(probability=0.05, ID=20467),\n Person(probability=0.11, ID=32910),\n Person(probability=0.01, ID=23522),\n Person(probability=0.02, ID=23527),\n Person(probability=0.03, ID=32671),\n Person(probability=0.16, ID=29752),\n Person(probability=0.05, ID=20038),\n Person(probability=0.02, ID=25090),\n Person(probability=0.11, ID=33952),\n Person(probability=0.07, ID=32625),\n Person(probability=0.81, ID=23569),\n Person(probability=0.0, ID=24692),\n Person(probability=0.01, ID=23499),\n Person(probability=0.07, ID=31391),\n Person(probability=0.0, ID=6893),\n Person(probability=0.02, ID=17993),\n Person(probability=0.01, ID=4626),\n Person(probability=0.03, ID=24431),\n Person(probability=0.18, ID=33766),\n Person(probability=0.04, ID=13995),\n Person(probability=0.06, ID=13852),\n Person(probability=0.08, ID=33329),\n Person(probability=0.96, ID=37183),\n Person(probability=0.0, ID=14181),\n Person(probability=0.03, ID=25797),\n Person(probability=0.02, ID=19927),\n Person(probability=0.0, ID=712),\n Person(probability=0.01, ID=321),\n Person(probability=0.07, ID=34520),\n Person(probability=0.61, ID=33954),\n Person(probability=0.01, ID=5618),\n Person(probability=0.0, ID=13783),\n Person(probability=0.94, ID=40231),\n Person(probability=0.02, ID=17542),\n Person(probability=0.47, ID=8256),\n Person(probability=0.0, ID=27319),\n Person(probability=0.14, ID=29310),\n Person(probability=0.16, ID=15849),\n Person(probability=0.0, ID=5153),\n Person(probability=0.07, ID=12946),\n Person(probability=0.0, ID=31323),\n Person(probability=0.13, ID=35253),\n Person(probability=0.0, ID=33175),\n Person(probability=0.0, ID=26150),\n Person(probability=0.02, ID=18824),\n Person(probability=0.02, ID=12913),\n Person(probability=0.01, ID=3637),\n Person(probability=0.02, ID=20878),\n Person(probability=0.01, ID=14478),\n Person(probability=0.0, ID=1287),\n Person(probability=0.02, ID=19904),\n Person(probability=0.02, ID=8234),\n Person(probability=0.04, ID=15227),\n Person(probability=0.0, ID=12820),\n Person(probability=0.0, ID=1495),\n Person(probability=0.0, ID=25628),\n Person(probability=0.26, ID=34303),\n Person(probability=0.46, ID=20046),\n Person(probability=0.03, ID=35321),\n Person(probability=0.03, ID=15438),\n Person(probability=0.07, ID=33958),\n Person(probability=0.02, ID=18880),\n Person(probability=0.0, ID=32102),\n Person(probability=0.14, ID=27466),\n Person(probability=0.02, ID=1814),\n Person(probability=0.0, ID=675),\n Person(probability=0.01, ID=1081),\n Person(probability=0.04, ID=14726),\n Person(probability=0.02, ID=34152),\n Person(probability=0.19, ID=30536),\n Person(probability=0.04, ID=8087),\n Person(probability=0.45, ID=13734),\n Person(probability=0.88, ID=41181),\n Person(probability=0.0, ID=1586),\n Person(probability=0.14, ID=30758),\n Person(probability=0.86, ID=28840),\n Person(probability=0.02, ID=8432),\n Person(probability=0.04, ID=15337),\n Person(probability=0.0, ID=10997),\n Person(probability=0.83, ID=28956),\n Person(probability=0.74, ID=11016),\n Person(probability=0.06, ID=30858),\n Person(probability=0.0, ID=3934),\n Person(probability=0.04, ID=14661),\n Person(probability=0.04, ID=9135),\n Person(probability=1.0, ID=39491),\n Person(probability=0.0, ID=2416),\n Person(probability=0.01, ID=21433),\n Person(probability=0.93, ID=38476),\n Person(probability=0.0, ID=24590),\n Person(probability=0.92, ID=30202),\n Person(probability=0.88, ID=19415),\n Person(probability=0.02, ID=20140),\n Person(probability=0.83, ID=36873),\n Person(probability=0.05, ID=23218),\n Person(probability=0.17, ID=14987),\n Person(probability=0.01, ID=26459),\n Person(probability=0.95, ID=38500),\n Person(probability=0.65, ID=3299),\n Person(probability=0.05, ID=4320),\n Person(probability=0.02, ID=13596),\n Person(probability=0.92, ID=20653),\n Person(probability=0.0, ID=14350),\n Person(probability=0.95, ID=13958),\n Person(probability=0.06, ID=33973),\n Person(probability=0.0, ID=21666),\n Person(probability=0.71, ID=31179),\n Person(probability=0.01, ID=538),\n Person(probability=0.0, ID=3640),\n Person(probability=0.93, ID=38905),\n Person(probability=0.02, ID=35327),\n Person(probability=0.01, ID=18610),\n Person(probability=0.33, ID=36049),\n Person(probability=0.02, ID=32305),\n Person(probability=0.01, ID=23220),\n Person(probability=0.02, ID=17405),\n Person(probability=0.0, ID=24447),\n Person(probability=0.07, ID=28983),\n Person(probability=0.0, ID=11403),\n Person(probability=0.56, ID=37981),\n Person(probability=0.89, ID=39903),\n Person(probability=0.6, ID=38201),\n Person(probability=0.86, ID=19130),\n Person(probability=0.5, ID=31828),\n Person(probability=0.09, ID=31519),\n Person(probability=0.06, ID=34494),\n Person(probability=0.23, ID=29710),\n Person(probability=0.07, ID=1464),\n Person(probability=0.51, ID=37868),\n Person(probability=0.02, ID=16220),\n Person(probability=0.01, ID=12302),\n Person(probability=0.01, ID=7678),\n Person(probability=0.03, ID=7461),\n Person(probability=0.02, ID=11874),\n Person(probability=0.06, ID=35357),\n Person(probability=0.0, ID=21434),\n Person(probability=0.0, ID=544),\n Person(probability=0.14, ID=29125),\n Person(probability=0.83, ID=38625),\n Person(probability=0.0, ID=11663),\n Person(probability=0.0, ID=17796),\n Person(probability=0.96, ID=16317),\n Person(probability=0.1, ID=28952),\n Person(probability=0.09, ID=34464),\n Person(probability=0.8, ID=20715),\n Person(probability=0.11, ID=33420),\n Person(probability=0.85, ID=28204),\n Person(probability=0.97, ID=11996),\n Person(probability=0.01, ID=21574),\n Person(probability=0.01, ID=9913),\n Person(probability=0.0, ID=16223),\n Person(probability=0.83, ID=26990),\n Person(probability=0.77, ID=16659),\n Person(probability=0.47, ID=40323),\n Person(probability=0.01, ID=6514),\n Person(probability=0.03, ID=18422),\n Person(probability=0.01, ID=568),\n Person(probability=0.9, ID=40676),\n Person(probability=0.01, ID=509),\n Person(probability=0.01, ID=3046),\n Person(probability=0.06, ID=21703),\n Person(probability=0.38, ID=27885),\n Person(probability=0.0, ID=3776),\n Person(probability=0.47, ID=30059),\n Person(probability=0.74, ID=38279),\n Person(probability=0.13, ID=29236),\n Person(probability=0.0, ID=2516),\n Person(probability=0.66, ID=33469),\n Person(probability=0.12, ID=27619),\n Person(probability=0.77, ID=29447),\n Person(probability=0.01, ID=34103),\n Person(probability=1.0, ID=39874),\n Person(probability=0.01, ID=1009),\n Person(probability=0.05, ID=10005),\n Person(probability=0.95, ID=40716),\n Person(probability=0.52, ID=38217),\n Person(probability=0.02, ID=6628),\n Person(probability=0.02, ID=7214),\n Person(probability=0.0, ID=4394),\n Person(probability=0.06, ID=34755),\n Person(probability=0.61, ID=4086),\n Person(probability=0.92, ID=38176),\n Person(probability=0.04, ID=11870),\n Person(probability=0.09, ID=23979),\n Person(probability=0.03, ID=23301),\n Person(probability=0.0, ID=8845),\n Person(probability=0.0, ID=1749),\n Person(probability=0.2, ID=11021),\n Person(probability=0.1, ID=22850),\n Person(probability=1.0, ID=37235),\n Person(probability=0.99, ID=39833),\n Person(probability=1.0, ID=27855),\n Person(probability=0.17, ID=36173),\n Person(probability=0.2, ID=32687),\n Person(probability=0.03, ID=10187),\n Person(probability=0.01, ID=12244),\n Person(probability=0.01, ID=15158),\n Person(probability=0.9, ID=36258),\n Person(probability=0.67, ID=24640),\n Person(probability=0.08, ID=33327),\n Person(probability=0.07, ID=15540),\n Person(probability=0.03, ID=20130),\n Person(probability=0.02, ID=26668),\n Person(probability=0.0, ID=8756),\n Person(probability=0.34, ID=41171),\n Person(probability=0.63, ID=37391),\n Person(probability=0.32, ID=37018),\n Person(probability=0.03, ID=33449),\n Person(probability=0.0, ID=25277),\n Person(probability=0.02, ID=35053),\n Person(probability=0.01, ID=305),\n Person(probability=0.02, ID=32610),\n Person(probability=0.04, ID=1260),\n Person(probability=0.68, ID=39634),\n Person(probability=0.05, ID=7683),\n Person(probability=0.99, ID=37945),\n Person(probability=0.03, ID=17913),\n Person(probability=0.07, ID=34357),\n Person(probability=0.96, ID=13359),\n Person(probability=0.0, ID=3120),\n Person(probability=0.76, ID=13622),\n Person(probability=0.73, ID=24098),\n Person(probability=0.02, ID=14440),\n Person(probability=0.0, ID=24422),\n Person(probability=0.13, ID=11103),\n Person(probability=0.16, ID=32144),\n Person(probability=0.19, ID=39817),\n Person(probability=0.02, ID=9305),\n Person(probability=0.01, ID=1391),\n Person(probability=0.0, ID=7926),\n Person(probability=0.99, ID=13460),\n Person(probability=0.22, ID=23455),\n Person(probability=0.02, ID=5529),\n Person(probability=0.0, ID=18473),\n Person(probability=0.03, ID=25681),\n Person(probability=0.0, ID=312),\n Person(probability=0.87, ID=14074),\n Person(probability=0.01, ID=1321),\n Person(probability=0.0, ID=516),\n Person(probability=0.14, ID=18001),\n Person(probability=0.83, ID=10456),\n Person(probability=0.0, ID=11728),\n Person(probability=0.0, ID=14699),\n Person(probability=0.47, ID=28728),\n Person(probability=0.15, ID=23924),\n Person(probability=0.04, ID=9268),\n Person(probability=0.59, ID=12558),\n Person(probability=0.28, ID=35308),\n Person(probability=0.99, ID=39906),\n Person(probability=0.03, ID=25553),\n Person(probability=0.97, ID=38144),\n Person(probability=0.11, ID=4914),\n Person(probability=0.04, ID=35526),\n Person(probability=0.19, ID=33949),\n Person(probability=0.02, ID=26323),\n Person(probability=0.06, ID=1446),\n Person(probability=0.03, ID=11629),\n Person(probability=0.72, ID=8276),\n Person(probability=0.03, ID=2767),\n Person(probability=0.93, ID=30395),\n Person(probability=0.01, ID=32795),\n Person(probability=0.0, ID=26953),\n Person(probability=0.61, ID=33528),\n Person(probability=1.0, ID=30148),\n Person(probability=0.28, ID=3375),\n Person(probability=0.95, ID=30429),\n Person(probability=0.03, ID=34281),\n Person(probability=0.18, ID=27301),\n Person(probability=0.24, ID=15059),\n Person(probability=0.78, ID=13733),\n Person(probability=0.0, ID=6467),\n Person(probability=0.0, ID=23264),\n Person(probability=0.02, ID=1370),\n Person(probability=0.94, ID=30248),\n Person(probability=0.06, ID=7628),\n Person(probability=0.02, ID=22110),\n Person(probability=0.0, ID=16054),\n Person(probability=0.85, ID=21226),\n Person(probability=0.09, ID=20278),\n Person(probability=0.02, ID=10851),\n Person(probability=0.12, ID=29096),\n Person(probability=0.09, ID=3785),\n Person(probability=0.78, ID=31539),\n Person(probability=0.18, ID=18523),\n Person(probability=0.01, ID=33127),\n Person(probability=0.06, ID=8088),\n Person(probability=0.0, ID=18458),\n Person(probability=0.0, ID=19724),\n Person(probability=0.0, ID=8115),\n Person(probability=0.78, ID=35016),\n Person(probability=0.03, ID=14889),\n Person(probability=0.02, ID=22625),\n Person(probability=0.03, ID=11946),\n Person(probability=0.01, ID=14307),\n Person(probability=0.86, ID=9758),\n Person(probability=0.0, ID=24472),\n Person(probability=0.96, ID=31463),\n Person(probability=0.01, ID=26164),\n Person(probability=0.9, ID=40787),\n Person(probability=0.54, ID=31506),\n Person(probability=0.01, ID=31435),\n Person(probability=0.0, ID=25180),\n Person(probability=0.93, ID=17720),\n Person(probability=0.99, ID=40017),\n Person(probability=0.0, ID=25473),\n Person(probability=0.16, ID=33714),\n Person(probability=0.03, ID=17891),\n Person(probability=0.85, ID=38781),\n Person(probability=0.25, ID=28787),\n Person(probability=0.65, ID=16585),\n Person(probability=0.4, ID=36783),\n Person(probability=0.34, ID=37434),\n Person(probability=0.16, ID=40532),\n Person(probability=0.0, ID=9789),\n Person(probability=0.0, ID=26841),\n Person(probability=0.86, ID=40879),\n Person(probability=0.0, ID=23882),\n Person(probability=0.04, ID=16410),\n Person(probability=0.06, ID=35078),\n Person(probability=0.01, ID=20954),\n Person(probability=0.01, ID=21653),\n Person(probability=0.01, ID=13282),\n Person(probability=0.65, ID=28571),\n Person(probability=0.04, ID=24916),\n Person(probability=0.01, ID=22967),\n Person(probability=0.01, ID=31886),\n Person(probability=0.69, ID=26216),\n Person(probability=0.01, ID=11411),\n Person(probability=0.01, ID=3883),\n Person(probability=0.21, ID=21349),\n Person(probability=0.02, ID=33161),\n Person(probability=0.13, ID=30164),\n Person(probability=0.0, ID=6758),\n Person(probability=0.0, ID=15647),\n Person(probability=0.06, ID=27427),\n Person(probability=0.14, ID=29471),\n Person(probability=0.0, ID=5300),\n Person(probability=0.0, ID=13433),\n Person(probability=0.04, ID=4010),\n Person(probability=0.88, ID=39027),\n Person(probability=0.96, ID=40271),\n Person(probability=0.91, ID=37663),\n Person(probability=0.1, ID=12720),\n Person(probability=0.03, ID=2236),\n Person(probability=0.22, ID=29411),\n Person(probability=0.03, ID=23672),\n Person(probability=0.08, ID=18943),\n Person(probability=0.0, ID=9131),\n Person(probability=0.36, ID=36496),\n Person(probability=0.02, ID=3778),\n Person(probability=0.05, ID=8286),\n Person(probability=0.01, ID=21449),\n Person(probability=0.01, ID=6927),\n Person(probability=0.0, ID=3447),\n Person(probability=0.0, ID=20917),\n Person(probability=0.05, ID=33661),\n Person(probability=0.1, ID=31906),\n Person(probability=0.72, ID=83),\n Person(probability=0.0, ID=14481),\n Person(probability=0.0, ID=16618),\n Person(probability=0.99, ID=40728),\n Person(probability=0.02, ID=7910),\n Person(probability=0.98, ID=32391),\n Person(probability=0.0, ID=18085),\n Person(probability=0.0, ID=583),\n Person(probability=0.04, ID=40538),\n Person(probability=0.03, ID=17340),\n Person(probability=0.97, ID=12861),\n Person(probability=0.0, ID=4727),\n Person(probability=0.02, ID=5248),\n Person(probability=0.61, ID=19399),\n Person(probability=0.43, ID=37048),\n Person(probability=0.0, ID=15636),\n Person(probability=0.12, ID=24955),\n Person(probability=0.92, ID=12133),\n Person(probability=0.01, ID=18844),\n Person(probability=0.02, ID=7038),\n Person(probability=0.0, ID=31635),\n Person(probability=0.9, ID=37072),\n Person(probability=0.01, ID=5011),\n Person(probability=0.66, ID=37485),\n Person(probability=0.38, ID=29244),\n Person(probability=0.0, ID=15726),\n Person(probability=0.88, ID=38067),\n Person(probability=0.27, ID=29474),\n Person(probability=0.44, ID=10937),\n Person(probability=0.82, ID=40616),\n Person(probability=0.0, ID=19884),\n Person(probability=0.89, ID=40785),\n Person(probability=0.95, ID=30154),\n Person(probability=0.03, ID=20389),\n Person(probability=0.17, ID=3148),\n Person(probability=0.03, ID=21710),\n Person(probability=0.01, ID=14051),\n Person(probability=0.01, ID=33210),\n Person(probability=0.0, ID=1180),\n Person(probability=0.03, ID=26096),\n Person(probability=0.01, ID=5632),\n Person(probability=0.02, ID=27602),\n Person(probability=0.92, ID=30277),\n Person(probability=0.01, ID=14497),\n Person(probability=0.02, ID=22697),\n Person(probability=0.04, ID=25979),\n Person(probability=1.0, ID=39504),\n Person(probability=0.02, ID=33476),\n Person(probability=0.12, ID=22921),\n Person(probability=0.0, ID=24787),\n Person(probability=0.25, ID=28339),\n Person(probability=0.02, ID=7262),\n Person(probability=0.01, ID=15812),\n Person(probability=0.01, ID=13436),\n Person(probability=0.09, ID=19637),\n Person(probability=0.06, ID=26580),\n Person(probability=0.01, ID=26253),\n Person(probability=0.02, ID=17693),\n Person(probability=0.48, ID=28813),\n Person(probability=0.0, ID=3321),\n Person(probability=0.0, ID=11891),\n Person(probability=0.51, ID=19273),\n Person(probability=0.0, ID=19555),\n Person(probability=0.01, ID=2828),\n Person(probability=0.96, ID=31485),\n Person(probability=0.02, ID=11324),\n Person(probability=0.86, ID=7760),\n Person(probability=0.01, ID=23091),\n Person(probability=0.01, ID=31717),\n Person(probability=0.07, ID=7263),\n Person(probability=0.87, ID=39604),\n Person(probability=0.0, ID=15601),\n Person(probability=0.01, ID=14162),\n Person(probability=0.0, ID=20905),\n Person(probability=0.58, ID=38036),\n Person(probability=0.01, ID=2731),\n Person(probability=0.67, ID=395),\n Person(probability=0.0, ID=24313),\n Person(probability=0.1, ID=40528),\n Person(probability=0.85, ID=17871),\n Person(probability=0.57, ID=38062),\n Person(probability=0.01, ID=19266),\n Person(probability=0.47, ID=15147),\n Person(probability=0.01, ID=31333),\n Person(probability=0.02, ID=11240),\n Person(probability=0.38, ID=18551),\n Person(probability=0.96, ID=24055),\n Person(probability=0.57, ID=21043),\n Person(probability=0.01, ID=16060),\n Person(probability=0.0, ID=5694),\n Person(probability=0.0, ID=8096),\n Person(probability=0.04, ID=22870),\n Person(probability=0.06, ID=4119),\n Person(probability=0.01, ID=22721),\n Person(probability=0.06, ID=34112),\n Person(probability=0.04, ID=10108),\n Person(probability=0.02, ID=33635),\n Person(probability=0.05, ID=22628),\n Person(probability=0.96, ID=13652),\n Person(probability=0.01, ID=17819),\n Person(probability=0.05, ID=20578),\n Person(probability=0.01, ID=32653),\n Person(probability=0.84, ID=38314),\n Person(probability=0.01, ID=35436),\n Person(probability=0.2, ID=28985),\n Person(probability=0.9, ID=38803),\n Person(probability=0.32, ID=1100),\n Person(probability=0.6, ID=1846),\n Person(probability=0.04, ID=31161),\n Person(probability=0.1, ID=40707),\n Person(probability=0.0, ID=23434),\n Person(probability=0.01, ID=20547),\n Person(probability=0.99, ID=39225),\n Person(probability=0.02, ID=16284),\n Person(probability=0.2, ID=9114),\n Person(probability=0.21, ID=34005),\n Person(probability=0.01, ID=12177),\n Person(probability=0.01, ID=17586),\n Person(probability=0.01, ID=12415)]"
     },
     "execution_count": 75,
     "metadata": {},
     "output_type": "execute_result"
    }
   ],
   "source": [
    "persons"
   ],
   "metadata": {
    "collapsed": false,
    "pycharm": {
     "name": "#%%\n"
    }
   }
  },
  {
   "cell_type": "code",
   "execution_count": 7,
   "outputs": [
    {
     "data": {
      "text/plain": "array([[<Axes: title={'center': '1'}>]], dtype=object)"
     },
     "execution_count": 7,
     "metadata": {},
     "output_type": "execute_result"
    },
    {
     "data": {
      "text/plain": "<Figure size 3000x500 with 1 Axes>",
      "image/png": "[encoded data removed]"
     },
     "metadata": {},
     "output_type": "display_data"
    }
   ],
   "source": [
    "import seaborn as sns\n",
    "result.drop(columns='0').hist(figsize=(30, 5))"
   ],
   "metadata": {
    "collapsed": false,
    "pycharm": {
     "name": "#%%\n"
    }
   }
  },
  {
   "cell_type": "markdown",
   "source": [
    "# Получим топ 3 важных признака (что влияло больше всего на то, что человек оформит депозит)"
   ],
   "metadata": {
    "collapsed": false,
    "pycharm": {
     "name": "#%% md\n"
    }
   }
  },
  {
   "cell_type": "markdown",
   "source": [
    "**Определим метод, который получает индексы признаков каждой категории:**"
   ],
   "metadata": {
    "collapsed": false,
    "pycharm": {
     "name": "#%% md\n"
    }
   }
  },
  {
   "cell_type": "code",
   "execution_count": 8,
   "outputs": [],
   "source": [
    "def get_feature_indexes(cols, features):\n",
    "    indexes = []\n",
    "    for feature in features:\n",
    "        ind = list(cols).index(feature)\n",
    "        indexes.append(ind)\n",
    "    return indexes"
   ],
   "metadata": {
    "collapsed": false,
    "pycharm": {
     "name": "#%%\n"
    }
   }
  },
  {
   "cell_type": "markdown",
   "source": [
    "**Определим метод, который получает долю важности признаков при прогнозе для конкретного пользователя**"
   ],
   "metadata": {
    "collapsed": false,
    "pycharm": {
     "name": "#%% md\n"
    }
   }
  },
  {
   "cell_type": "code",
   "execution_count": 9,
   "outputs": [],
   "source": [
    "from sklearn.preprocessing import MinMaxScaler\n",
    "\n",
    "def get_importance(df, feature_importance_, ID, feature_ind):\n",
    "    values = df.loc[ID].values[feature_ind]\n",
    "    importance = feature_importance_[feature_ind]\n",
    "    res = pd.DataFrame(values * importance, columns=['importance'])\n",
    "    res.index = df.loc[ID].iloc[feature_ind].index\n",
    "    scaler = MinMaxScaler()\n",
    "    res['importance'] = scaler.fit_transform(res['importance'].values.reshape(-1, 1))\n",
    "\n",
    "    return res.sort_values(by=['importance'])"
   ],
   "metadata": {
    "collapsed": false,
    "pycharm": {
     "name": "#%%\n"
    }
   }
  },
  {
   "cell_type": "markdown",
   "source": [
    "**Выделим бинарные, количественные и числовые признаки:**"
   ],
   "metadata": {
    "collapsed": false,
    "pycharm": {
     "name": "#%% md\n"
    }
   }
  },
  {
   "cell_type": "code",
   "execution_count": 10,
   "outputs": [],
   "source": [
    "bin_f = ['job', 'marital', 'education', 'default', 'housing', 'loan', 'contact', 'pdays']\n",
    "count_f = ['age', 'month', 'day_of_week']\n",
    "num_f = ['duration', 'campaign', 'previous', 'emp.var.rate', 'cons.price.idx', 'cons.conf.idx', 'euribor3m', 'nr.employed']\n"
   ],
   "metadata": {
    "collapsed": false,
    "pycharm": {
     "name": "#%%\n"
    }
   }
  },
  {
   "cell_type": "markdown",
   "source": [
    "**Получим важность признаков модели:**"
   ],
   "metadata": {
    "collapsed": false,
    "pycharm": {
     "name": "#%% md\n"
    }
   }
  },
  {
   "cell_type": "code",
   "execution_count": 11,
   "outputs": [],
   "source": [
    "fi = model.model.feature_importances_\n",
    "imp_test = test_data.drop(columns='y')"
   ],
   "metadata": {
    "collapsed": false,
    "pycharm": {
     "name": "#%%\n"
    }
   }
  },
  {
   "cell_type": "code",
   "execution_count": 12,
   "outputs": [
    {
     "name": "stdout",
     "output_type": "stream",
     "text": [
      "Бинарные признаки:\n",
      "          importance\n",
      "contact    0.937230\n",
      "housing    0.957223\n",
      "marital    1.000000\n",
      "Количественные признаки:\n",
      "              importance\n",
      "age            0.000000\n",
      "day_of_week    0.743101\n",
      "month          1.000000\n",
      "Числовые признаки:\n",
      "                 importance\n",
      "cons.price.idx    0.009180\n",
      "duration          0.516277\n",
      "nr.employed       1.000000\n"
     ]
    }
   ],
   "source": [
    "bin_f_ind = get_feature_indexes(imp_test.columns, bin_f)\n",
    "count_f_ind = get_feature_indexes(imp_test.columns, count_f)\n",
    "num_f_ind = get_feature_indexes(imp_test.columns, num_f)\n",
    "\n",
    "ID = 6605  # 323, 6605\n",
    "bin_f_imp = get_importance(imp_test, fi, ID, bin_f_ind)\n",
    "count_f_imp = get_importance(imp_test, fi, ID, count_f_ind)\n",
    "num_f_imp = get_importance(imp_test, fi, ID, num_f_ind)\n",
    "\n",
    "print('Бинарные признаки:\\n', bin_f_imp.iloc[len(bin_f_imp) - 3 :len(bin_f_imp)])\n",
    "print('Количественные признаки:\\n', count_f_imp.iloc[len(count_f_imp) - 3 :len(count_f_imp)])\n",
    "print('Числовые признаки:\\n', num_f_imp.iloc[len(num_f_imp) - 3 :len(num_f_imp)])\n",
    "\n",
    "# print(bin_f_imp)\n",
    "# print(count_f_imp)\n",
    "# print(num_f_imp)"
   ],
   "metadata": {
    "collapsed": false,
    "pycharm": {
     "name": "#%%\n"
    }
   }
  },
  {
   "cell_type": "code",
   "execution_count": 13,
   "outputs": [
    {
     "data": {
      "text/plain": "array([[<Axes: title={'center': '1'}>]], dtype=object)"
     },
     "execution_count": 13,
     "metadata": {},
     "output_type": "execute_result"
    },
    {
     "data": {
      "text/plain": "<Figure size 3000x500 with 1 Axes>",
      "image/png": "[encoded data removed]"
     },
     "metadata": {},
     "output_type": "display_data"
    }
   ],
   "source": [
    "import seaborn as sns\n",
    "result.drop(columns='0').hist(figsize=(30, 5))"
   ],
   "metadata": {
    "collapsed": false,
    "pycharm": {
     "name": "#%%\n"
    }
   }
  },
  {
   "cell_type": "markdown",
   "source": [
    "# Получим топ 3 важных признака (что влияло больше всего на то, что человек оформит депозит)"
   ],
   "metadata": {
    "collapsed": false,
    "pycharm": {
     "name": "#%% md\n"
    }
   }
  },
  {
   "cell_type": "markdown",
   "source": [
    "**Определим метод, который получает индексы признаков каждой категории:**"
   ],
   "metadata": {
    "collapsed": false,
    "pycharm": {
     "name": "#%% md\n"
    }
   }
  },
  {
   "cell_type": "code",
   "execution_count": 14,
   "outputs": [],
   "source": [
    "def get_feature_indexes(cols, features):\n",
    "    indexes = []\n",
    "    for feature in features:\n",
    "        ind = list(cols).index(feature)\n",
    "        indexes.append(ind)\n",
    "    return indexes"
   ],
   "metadata": {
    "collapsed": false,
    "pycharm": {
     "name": "#%%\n"
    }
   }
  },
  {
   "cell_type": "markdown",
   "source": [
    "**Определим метод, который получает долю важности признаков при прогнозе для конкретного пользователя**"
   ],
   "metadata": {
    "collapsed": false,
    "pycharm": {
     "name": "#%% md\n"
    }
   }
  },
  {
   "cell_type": "code",
   "execution_count": 15,
   "outputs": [],
   "source": [
    "from sklearn.preprocessing import MinMaxScaler\n",
    "\n",
    "def get_importance(df, feature_importance_, ID, feature_ind):\n",
    "    values = df.loc[ID].values[feature_ind]\n",
    "    importance = feature_importance_[feature_ind]\n",
    "    res = pd.DataFrame(values * importance, columns=['importance'])\n",
    "    res.index = df.loc[ID].iloc[feature_ind].index\n",
    "    scaler = MinMaxScaler()\n",
    "    res['importance'] = scaler.fit_transform(res['importance'].values.reshape(-1, 1))\n",
    "\n",
    "    return res.sort_values(by=['importance'])"
   ],
   "metadata": {
    "collapsed": false,
    "pycharm": {
     "name": "#%%\n"
    }
   }
  },
  {
   "cell_type": "markdown",
   "source": [
    "**Выделим бинарные, количественные и числовые признаки:**"
   ],
   "metadata": {
    "collapsed": false,
    "pycharm": {
     "name": "#%% md\n"
    }
   }
  },
  {
   "cell_type": "code",
   "execution_count": 16,
   "outputs": [],
   "source": [
    "bin_f = ['job', 'marital', 'education', 'default', 'housing', 'loan', 'contact', 'pdays']\n",
    "count_f = ['age', 'month', 'day_of_week']\n",
    "num_f = ['duration', 'campaign', 'previous', 'emp.var.rate', 'cons.price.idx', 'cons.conf.idx', 'euribor3m', 'nr.employed']\n"
   ],
   "metadata": {
    "collapsed": false,
    "pycharm": {
     "name": "#%%\n"
    }
   }
  },
  {
   "cell_type": "markdown",
   "source": [
    "**Получим важность признаков модели:**"
   ],
   "metadata": {
    "collapsed": false,
    "pycharm": {
     "name": "#%% md\n"
    }
   }
  },
  {
   "cell_type": "code",
   "execution_count": 17,
   "outputs": [],
   "source": [
    "fi = model.model.feature_importances_\n",
    "imp_test = test_data.drop(columns='y')"
   ],
   "metadata": {
    "collapsed": false,
    "pycharm": {
     "name": "#%%\n"
    }
   }
  },
  {
   "cell_type": "code",
   "execution_count": 21,
   "outputs": [
    {
     "data": {
      "text/plain": "       age  job  marital  education  default  housing  loan  contact  month  \\\nid                                                                            \n20806    0    1        1          1        0        1     0        0    7.0   \n32487    2    1        1          0        0        0     0        0    4.0   \n6605     0    1        1          0        1        1     0        1    4.0   \n27542    0    1        1          1        0        0     0        0   10.0   \n37202    0    1        0          1        0        0     0        0    7.0   \n...    ...  ...      ...        ...      ...      ...   ...      ...    ...   \n9114     0    1        1          0        0        1     0        1    5.0   \n34005    0    1        1          0        0        0     1        0    4.0   \n12177    1    1        1          0        1        0     0        1    6.0   \n17586    2    1        1          0        0        1     0        0    6.0   \n12415    0    1        1          1        1        0     0        0    6.0   \n\n       day_of_week  duration  campaign  pdays  previous  emp.var.rate  \\\nid                                                                      \n20806          2.0        73         3      0         0           1.4   \n32487          4.0       129         2      0         0          -1.8   \n6605           2.0       507         1      0         0           1.1   \n27542          4.0        14         9      0         0          -0.1   \n37202          3.0       250         1      0         1          -2.9   \n...            ...       ...       ...    ...       ...           ...   \n9114           4.0       447         2      0         0           1.4   \n34005          2.0       281         1      0         0          -1.8   \n12177          1.0        39         1      0         0           1.4   \n17586          0.0       290         2      0         0           1.4   \n12415          0.0        75         3      0         0           1.4   \n\n       cons.price.idx  cons.conf.idx  euribor3m  nr.employed  \nid                                                            \n20806          93.444          -36.1      4.965       5228.1  \n32487          92.893          -46.2      1.313       5099.1  \n6605           93.994          -36.4      4.857       5191.0  \n27542          93.200          -42.0      4.021       5195.8  \n37202          92.201          -31.4      0.883       5076.2  \n...               ...            ...        ...          ...  \n9114           94.465          -41.8      4.967       5228.1  \n34005          92.893          -46.2      1.281       5099.1  \n12177          93.918          -42.7      4.955       5228.1  \n17586          93.918          -42.7      4.962       5228.1  \n12415          93.918          -42.7      4.960       5228.1  \n\n[1000 rows x 19 columns]",
      "text/html": "<div>\n<style scoped>\n    .dataframe tbody tr th:only-of-type {\n        vertical-align: middle;\n    }\n\n    .dataframe tbody tr th {\n        vertical-align: top;\n    }\n\n    .dataframe thead th {\n        text-align: right;\n    }\n</style>\n<table border=\"1\" class=\"dataframe\">\n  <thead>\n    <tr style=\"text-align: right;\">\n      <th></th>\n      <th>age</th>\n      <th>job</th>\n      <th>marital</th>\n      <th>education</th>\n      <th>default</th>\n      <th>housing</th>\n      <th>loan</th>\n      <th>contact</th>\n      <th>month</th>\n      <th>day_of_week</th>\n      <th>duration</th>\n      <th>campaign</th>\n      <th>pdays</th>\n      <th>previous</th>\n      <th>emp.var.rate</th>\n      <th>cons.price.idx</th>\n      <th>cons.conf.idx</th>\n      <th>euribor3m</th>\n      <th>nr.employed</th>\n    </tr>\n    <tr>\n      <th>id</th>\n      <th></th>\n      <th></th>\n      <th></th>\n      <th></th>\n      <th></th>\n      <th></th>\n      <th></th>\n      <th></th>\n      <th></th>\n      <th></th>\n      <th></th>\n      <th></th>\n      <th></th>\n      <th></th>\n      <th></th>\n      <th></th>\n      <th></th>\n      <th></th>\n      <th></th>\n    </tr>\n  </thead>\n  <tbody>\n    <tr>\n      <th>20806</th>\n      <td>0</td>\n      <td>1</td>\n      <td>1</td>\n      <td>1</td>\n      <td>0</td>\n      <td>1</td>\n      <td>0</td>\n      <td>0</td>\n      <td>7.0</td>\n      <td>2.0</td>\n      <td>73</td>\n      <td>3</td>\n      <td>0</td>\n      <td>0</td>\n      <td>1.4</td>\n      <td>93.444</td>\n      <td>-36.1</td>\n      <td>4.965</td>\n      <td>5228.1</td>\n    </tr>\n    <tr>\n      <th>32487</th>\n      <td>2</td>\n      <td>1</td>\n      <td>1</td>\n      <td>0</td>\n      <td>0</td>\n      <td>0</td>\n      <td>0</td>\n      <td>0</td>\n      <td>4.0</td>\n      <td>4.0</td>\n      <td>129</td>\n      <td>2</td>\n      <td>0</td>\n      <td>0</td>\n      <td>-1.8</td>\n      <td>92.893</td>\n      <td>-46.2</td>\n      <td>1.313</td>\n      <td>5099.1</td>\n    </tr>\n    <tr>\n      <th>6605</th>\n      <td>0</td>\n      <td>1</td>\n      <td>1</td>\n      <td>0</td>\n      <td>1</td>\n      <td>1</td>\n      <td>0</td>\n      <td>1</td>\n      <td>4.0</td>\n      <td>2.0</td>\n      <td>507</td>\n      <td>1</td>\n      <td>0</td>\n      <td>0</td>\n      <td>1.1</td>\n      <td>93.994</td>\n      <td>-36.4</td>\n      <td>4.857</td>\n      <td>5191.0</td>\n    </tr>\n    <tr>\n      <th>27542</th>\n      <td>0</td>\n      <td>1</td>\n      <td>1</td>\n      <td>1</td>\n      <td>0</td>\n      <td>0</td>\n      <td>0</td>\n      <td>0</td>\n      <td>10.0</td>\n      <td>4.0</td>\n      <td>14</td>\n      <td>9</td>\n      <td>0</td>\n      <td>0</td>\n      <td>-0.1</td>\n      <td>93.200</td>\n      <td>-42.0</td>\n      <td>4.021</td>\n      <td>5195.8</td>\n    </tr>\n    <tr>\n      <th>37202</th>\n      <td>0</td>\n      <td>1</td>\n      <td>0</td>\n      <td>1</td>\n      <td>0</td>\n      <td>0</td>\n      <td>0</td>\n      <td>0</td>\n      <td>7.0</td>\n      <td>3.0</td>\n      <td>250</td>\n      <td>1</td>\n      <td>0</td>\n      <td>1</td>\n      <td>-2.9</td>\n      <td>92.201</td>\n      <td>-31.4</td>\n      <td>0.883</td>\n      <td>5076.2</td>\n    </tr>\n    <tr>\n      <th>...</th>\n      <td>...</td>\n      <td>...</td>\n      <td>...</td>\n      <td>...</td>\n      <td>...</td>\n      <td>...</td>\n      <td>...</td>\n      <td>...</td>\n      <td>...</td>\n      <td>...</td>\n      <td>...</td>\n      <td>...</td>\n      <td>...</td>\n      <td>...</td>\n      <td>...</td>\n      <td>...</td>\n      <td>...</td>\n      <td>...</td>\n      <td>...</td>\n    </tr>\n    <tr>\n      <th>9114</th>\n      <td>0</td>\n      <td>1</td>\n      <td>1</td>\n      <td>0</td>\n      <td>0</td>\n      <td>1</td>\n      <td>0</td>\n      <td>1</td>\n      <td>5.0</td>\n      <td>4.0</td>\n      <td>447</td>\n      <td>2</td>\n      <td>0</td>\n      <td>0</td>\n      <td>1.4</td>\n      <td>94.465</td>\n      <td>-41.8</td>\n      <td>4.967</td>\n      <td>5228.1</td>\n    </tr>\n    <tr>\n      <th>34005</th>\n      <td>0</td>\n      <td>1</td>\n      <td>1</td>\n      <td>0</td>\n      <td>0</td>\n      <td>0</td>\n      <td>1</td>\n      <td>0</td>\n      <td>4.0</td>\n      <td>2.0</td>\n      <td>281</td>\n      <td>1</td>\n      <td>0</td>\n      <td>0</td>\n      <td>-1.8</td>\n      <td>92.893</td>\n      <td>-46.2</td>\n      <td>1.281</td>\n      <td>5099.1</td>\n    </tr>\n    <tr>\n      <th>12177</th>\n      <td>1</td>\n      <td>1</td>\n      <td>1</td>\n      <td>0</td>\n      <td>1</td>\n      <td>0</td>\n      <td>0</td>\n      <td>1</td>\n      <td>6.0</td>\n      <td>1.0</td>\n      <td>39</td>\n      <td>1</td>\n      <td>0</td>\n      <td>0</td>\n      <td>1.4</td>\n      <td>93.918</td>\n      <td>-42.7</td>\n      <td>4.955</td>\n      <td>5228.1</td>\n    </tr>\n    <tr>\n      <th>17586</th>\n      <td>2</td>\n      <td>1</td>\n      <td>1</td>\n      <td>0</td>\n      <td>0</td>\n      <td>1</td>\n      <td>0</td>\n      <td>0</td>\n      <td>6.0</td>\n      <td>0.0</td>\n      <td>290</td>\n      <td>2</td>\n      <td>0</td>\n      <td>0</td>\n      <td>1.4</td>\n      <td>93.918</td>\n      <td>-42.7</td>\n      <td>4.962</td>\n      <td>5228.1</td>\n    </tr>\n    <tr>\n      <th>12415</th>\n      <td>0</td>\n      <td>1</td>\n      <td>1</td>\n      <td>1</td>\n      <td>1</td>\n      <td>0</td>\n      <td>0</td>\n      <td>0</td>\n      <td>6.0</td>\n      <td>0.0</td>\n      <td>75</td>\n      <td>3</td>\n      <td>0</td>\n      <td>0</td>\n      <td>1.4</td>\n      <td>93.918</td>\n      <td>-42.7</td>\n      <td>4.960</td>\n      <td>5228.1</td>\n    </tr>\n  </tbody>\n</table>\n<p>1000 rows × 19 columns</p>\n</div>"
     },
     "execution_count": 21,
     "metadata": {},
     "output_type": "execute_result"
    }
   ],
   "source": [
    "imp_test"
   ],
   "metadata": {
    "collapsed": false,
    "pycharm": {
     "name": "#%%\n"
    }
   }
  },
  {
   "cell_type": "code",
   "execution_count": 27,
   "outputs": [
    {
     "name": "stdout",
     "output_type": "stream",
     "text": [
      "Бинарные признаки:\n",
      " importance    1.0\n",
      "Name: marital, dtype: float64\n",
      "Количественные признаки:\n",
      " importance    1.0\n",
      "Name: month, dtype: float64\n",
      "Числовые признаки:\n",
      " importance    1.0\n",
      "Name: nr.employed, dtype: float64\n"
     ]
    }
   ],
   "source": [
    "bin_f_ind = get_feature_indexes(imp_test.columns, bin_f)\n",
    "count_f_ind = get_feature_indexes(imp_test.columns, count_f)\n",
    "num_f_ind = get_feature_indexes(imp_test.columns, num_f)\n",
    "\n",
    "ID = 22720  # 323, 6605\n",
    "bin_f_imp = get_importance(imp_test, fi, ID, bin_f_ind)\n",
    "count_f_imp = get_importance(imp_test, fi, ID, count_f_ind)\n",
    "num_f_imp = get_importance(imp_test, fi, ID, num_f_ind)\n",
    "\n",
    "print('Бинарные признаки:\\n', bin_f_imp.iloc[len(bin_f_imp) - 1])\n",
    "print('Количественные признаки:\\n', count_f_imp.iloc[len(count_f_imp) - 1])\n",
    "print('Числовые признаки:\\n', num_f_imp.iloc[len(num_f_imp) - 1])\n",
    "\n",
    "# print(bin_f_imp)\n",
    "# print(count_f_imp)\n",
    "# print(num_f_imp)"
   ],
   "metadata": {
    "collapsed": false,
    "pycharm": {
     "name": "#%%\n"
    }
   }
  },
  {
   "cell_type": "code",
   "execution_count": null,
   "outputs": [],
   "source": [],
   "metadata": {
    "collapsed": false,
    "pycharm": {
     "name": "#%%\n",
     "is_executing": true
    }
   }
  },
  {
   "cell_type": "markdown",
   "source": [
    "marital, month, nr.employed"
   ],
   "metadata": {
    "collapsed": false,
    "pycharm": {
     "name": "#%% md\n"
    }
   }
  }
 ],
 "metadata": {
  "kernelspec": {
   "display_name": "Python 3",
   "language": "python",
   "name": "python3"
  },
  "language_info": {
   "codemirror_mode": {
    "name": "ipython",
    "version": 2
   },
   "file_extension": ".py",
   "mimetype": "text/x-python",
   "name": "python",
   "nbconvert_exporter": "python",
   "pygments_lexer": "ipython2",
   "version": "2.7.6"
  }
 },
 "nbformat": 4,
 "nbformat_minor": 0
}