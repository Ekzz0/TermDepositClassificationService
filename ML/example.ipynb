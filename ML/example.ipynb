{
 "cells": [
  {
   "cell_type": "code",
   "execution_count": 1,
   "outputs": [],
   "source": [
    "import pandas as pd\n",
    "import utils as ut"
   ],
   "metadata": {
    "collapsed": false,
    "pycharm": {
     "name": "#%%\n"
    }
   }
  },
  {
   "cell_type": "code",
   "execution_count": 2,
   "outputs": [],
   "source": [
    "# Генерация признаков\n",
    "path = \"./data/test.csv\"\n",
    "feature_construct = ut.load_feature_constructor()\n",
    "test_data = feature_construct(path)"
   ],
   "metadata": {
    "collapsed": false,
    "pycharm": {
     "name": "#%%\n"
    }
   }
  },
  {
   "cell_type": "code",
   "execution_count": 3,
   "outputs": [],
   "source": [
    "# Загрузка модели\n",
    "path = \"./models/RandomForest.pkl\"\n",
    "model = ut.load_model(path)"
   ],
   "metadata": {
    "collapsed": false,
    "pycharm": {
     "name": "#%%\n"
    }
   }
  },
  {
   "cell_type": "code",
   "execution_count": 4,
   "outputs": [],
   "source": [
    "    # Обучение модели на каких-то новых данных:\n",
    "path = \"./data/train.csv\"\n",
    "train_data = pd.read_csv(path, index_col=0)\n",
    "model.fit(*ut.split_to_x_y(train_data, 'y'))\n",
    "model.save_model()"
   ],
   "metadata": {
    "collapsed": false,
    "pycharm": {
     "name": "#%%\n"
    }
   }
  },
  {
   "cell_type": "code",
   "execution_count": 5,
   "outputs": [],
   "source": [
    "# Получение предикта\n",
    "clf_report = model.predict(*ut.split_to_x_y(test_data, 'y'))\n",
    "clf_report.predict.to_csv('../result.csv', index_label='id')"
   ],
   "metadata": {
    "collapsed": false,
    "pycharm": {
     "name": "#%%\n"
    }
   }
  },
  {
   "cell_type": "markdown",
   "source": [
    "**0 = NO**, **1 = YES**"
   ],
   "metadata": {
    "collapsed": false,
    "pycharm": {
     "name": "#%% md\n"
    }
   }
  },
  {
   "cell_type": "code",
   "execution_count": 6,
   "outputs": [
    {
     "data": {
      "text/plain": "          0     1\nid               \n20806  0.95  0.05\n32487  0.99  0.01\n6605   0.61  0.39\n27542  0.98  0.02\n37202  0.12  0.88\n...     ...   ...\n9114   0.77  0.23\n34005  0.85  0.15\n12177  1.00  0.00\n17586  0.96  0.04\n12415  1.00  0.00\n\n[1000 rows x 2 columns]",
      "text/html": "<div>\n<style scoped>\n    .dataframe tbody tr th:only-of-type {\n        vertical-align: middle;\n    }\n\n    .dataframe tbody tr th {\n        vertical-align: top;\n    }\n\n    .dataframe thead th {\n        text-align: right;\n    }\n</style>\n<table border=\"1\" class=\"dataframe\">\n  <thead>\n    <tr style=\"text-align: right;\">\n      <th></th>\n      <th>0</th>\n      <th>1</th>\n    </tr>\n    <tr>\n      <th>id</th>\n      <th></th>\n      <th></th>\n    </tr>\n  </thead>\n  <tbody>\n    <tr>\n      <th>20806</th>\n      <td>0.95</td>\n      <td>0.05</td>\n    </tr>\n    <tr>\n      <th>32487</th>\n      <td>0.99</td>\n      <td>0.01</td>\n    </tr>\n    <tr>\n      <th>6605</th>\n      <td>0.61</td>\n      <td>0.39</td>\n    </tr>\n    <tr>\n      <th>27542</th>\n      <td>0.98</td>\n      <td>0.02</td>\n    </tr>\n    <tr>\n      <th>37202</th>\n      <td>0.12</td>\n      <td>0.88</td>\n    </tr>\n    <tr>\n      <th>...</th>\n      <td>...</td>\n      <td>...</td>\n    </tr>\n    <tr>\n      <th>9114</th>\n      <td>0.77</td>\n      <td>0.23</td>\n    </tr>\n    <tr>\n      <th>34005</th>\n      <td>0.85</td>\n      <td>0.15</td>\n    </tr>\n    <tr>\n      <th>12177</th>\n      <td>1.00</td>\n      <td>0.00</td>\n    </tr>\n    <tr>\n      <th>17586</th>\n      <td>0.96</td>\n      <td>0.04</td>\n    </tr>\n    <tr>\n      <th>12415</th>\n      <td>1.00</td>\n      <td>0.00</td>\n    </tr>\n  </tbody>\n</table>\n<p>1000 rows × 2 columns</p>\n</div>"
     },
     "execution_count": 6,
     "metadata": {},
     "output_type": "execute_result"
    }
   ],
   "source": [
    "result = pd.read_csv('../result.csv', index_col=0)\n",
    "result"
   ],
   "metadata": {
    "collapsed": false,
    "pycharm": {
     "name": "#%%\n"
    }
   }
  },
  {
   "cell_type": "code",
   "execution_count": 14,
   "outputs": [
    {
     "data": {
      "text/plain": "array([[<Axes: title={'center': '1'}>]], dtype=object)"
     },
     "execution_count": 14,
     "metadata": {},
     "output_type": "execute_result"
    },
    {
     "data": {
      "text/plain": "<Figure size 3000x500 with 1 Axes>",
      "image/png": "[encoded data removed]"
     },
     "metadata": {},
     "output_type": "display_data"
    }
   ],
   "source": [
    "import seaborn as sns\n",
    "result.drop(columns='0').hist(figsize=(30, 5))"
   ],
   "metadata": {
    "collapsed": false,
    "pycharm": {
     "name": "#%%\n"
    }
   }
  },
  {
   "cell_type": "markdown",
   "source": [
    "# Получим топ 3 важных признака (что влияло больше всего на то, что человек оформит депозит)"
   ],
   "metadata": {
    "collapsed": false,
    "pycharm": {
     "name": "#%% md\n"
    }
   }
  },
  {
   "cell_type": "markdown",
   "source": [
    "**Определим метод, который получает индексы признаков каждой категории:**"
   ],
   "metadata": {
    "collapsed": false,
    "pycharm": {
     "name": "#%% md\n"
    }
   }
  },
  {
   "cell_type": "code",
   "execution_count": 91,
   "outputs": [],
   "source": [
    "def get_feature_indexes(cols, features):\n",
    "    indexes = []\n",
    "    for feature in features:\n",
    "        ind = list(cols).index(feature)\n",
    "        indexes.append(ind)\n",
    "    return indexes"
   ],
   "metadata": {
    "collapsed": false,
    "pycharm": {
     "name": "#%%\n"
    }
   }
  },
  {
   "cell_type": "markdown",
   "source": [
    "**Определим метод, который получает долю важности признаков при прогнозе для конкретного пользователя**"
   ],
   "metadata": {
    "collapsed": false,
    "pycharm": {
     "name": "#%% md\n"
    }
   }
  },
  {
   "cell_type": "code",
   "execution_count": 92,
   "outputs": [],
   "source": [
    "from sklearn.preprocessing import MinMaxScaler\n",
    "\n",
    "def get_importance(df, feature_importance_, ID, feature_ind):\n",
    "    values = df.loc[ID].values[feature_ind]\n",
    "    importance = feature_importance_[feature_ind]\n",
    "    res = pd.DataFrame(values * importance, columns=['importance'])\n",
    "    res.index = df.loc[ID].iloc[feature_ind].index\n",
    "    scaler = MinMaxScaler()\n",
    "    res['importance'] = scaler.fit_transform(res['importance'].values.reshape(-1, 1))\n",
    "\n",
    "    return res.sort_values(by=['importance'])"
   ],
   "metadata": {
    "collapsed": false,
    "pycharm": {
     "name": "#%%\n"
    }
   }
  },
  {
   "cell_type": "markdown",
   "source": [
    "**Выделим бинарные, количественные и числовые признаки:**"
   ],
   "metadata": {
    "collapsed": false,
    "pycharm": {
     "name": "#%% md\n"
    }
   }
  },
  {
   "cell_type": "code",
   "execution_count": 93,
   "outputs": [],
   "source": [
    "bin_f = ['job', 'marital', 'education', 'default', 'housing', 'loan', 'contact', 'pdays']\n",
    "count_f = ['age', 'month', 'day_of_week']\n",
    "num_f = ['duration', 'campaign', 'previous', 'emp.var.rate', 'cons.price.idx', 'cons.conf.idx', 'euribor3m', 'nr.employed']\n"
   ],
   "metadata": {
    "collapsed": false,
    "pycharm": {
     "name": "#%%\n"
    }
   }
  },
  {
   "cell_type": "markdown",
   "source": [
    "**Получим важность признаков модели:**"
   ],
   "metadata": {
    "collapsed": false,
    "pycharm": {
     "name": "#%% md\n"
    }
   }
  },
  {
   "cell_type": "code",
   "execution_count": 94,
   "outputs": [],
   "source": [
    "fi = model.model.feature_importances_\n",
    "imp_test = test_data.drop(columns='y')"
   ],
   "metadata": {
    "collapsed": false,
    "pycharm": {
     "name": "#%%\n"
    }
   }
  },
  {
   "cell_type": "code",
   "execution_count": 105,
   "outputs": [
    {
     "name": "stdout",
     "output_type": "stream",
     "text": [
      "Бинарные признаки:\n",
      "          importance\n",
      "contact    0.857095\n",
      "marital    0.990786\n",
      "housing    1.000000\n",
      "Количественные признаки:\n",
      "              importance\n",
      "age            0.000000\n",
      "day_of_week    0.708638\n",
      "month          1.000000\n",
      "Числовые признаки:\n",
      "                 importance\n",
      "cons.price.idx    0.009339\n",
      "duration          0.526836\n",
      "nr.employed       1.000000\n"
     ]
    }
   ],
   "source": [
    "bin_f_ind = get_feature_indexes(imp_test.columns, bin_f)\n",
    "count_f_ind = get_feature_indexes(imp_test.columns, count_f)\n",
    "num_f_ind = get_feature_indexes(imp_test.columns, num_f)\n",
    "\n",
    "ID = 6605  # 323, 6605\n",
    "bin_f_imp = get_importance(imp_test, fi, ID, bin_f_ind)\n",
    "count_f_imp = get_importance(imp_test, fi, ID, count_f_ind)\n",
    "num_f_imp = get_importance(imp_test, fi, ID, num_f_ind)\n",
    "\n",
    "print('Бинарные признаки:\\n', bin_f_imp.iloc[len(bin_f_imp) - 3 :len(bin_f_imp)])\n",
    "print('Количественные признаки:\\n', count_f_imp.iloc[len(count_f_imp) - 3 :len(count_f_imp)])\n",
    "print('Числовые признаки:\\n', num_f_imp.iloc[len(num_f_imp) - 3 :len(num_f_imp)])\n",
    "\n",
    "# print(bin_f_imp)\n",
    "# print(count_f_imp)\n",
    "# print(num_f_imp)"
   ],
   "metadata": {
    "collapsed": false,
    "pycharm": {
     "name": "#%%\n"
    }
   }
  },
  {
   "cell_type": "code",
   "execution_count": null,
   "outputs": [],
   "source": [],
   "metadata": {
    "collapsed": false,
    "pycharm": {
     "name": "#%%\n"
    }
   }
  }
 ],
 "metadata": {
  "kernelspec": {
   "display_name": "Python 3",
   "language": "python",
   "name": "python3"
  },
  "language_info": {
   "codemirror_mode": {
    "name": "ipython",
    "version": 2
   },
   "file_extension": ".py",
   "mimetype": "text/x-python",
   "name": "python",
   "nbconvert_exporter": "python",
   "pygments_lexer": "ipython2",
   "version": "2.7.6"
  }
 },
 "nbformat": 4,
 "nbformat_minor": 0
}